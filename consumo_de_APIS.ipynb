{
  "nbformat": 4,
  "nbformat_minor": 0,
  "metadata": {
    "colab": {
      "provenance": [],
      "toc_visible": true,
      "authorship_tag": "ABX9TyNpAoVzow1mnb+rhvOsypVg",
      "include_colab_link": true
    },
    "kernelspec": {
      "name": "python3",
      "display_name": "Python 3"
    },
    "language_info": {
      "name": "python"
    }
  },
  "cells": [
    {
      "cell_type": "markdown",
      "metadata": {
        "id": "view-in-github",
        "colab_type": "text"
      },
      "source": [
        "<a href=\"https://colab.research.google.com/github/vinyl1212/Consumo-de-APIS/blob/main/consumo_de_APIS.ipynb\" target=\"_parent\"><img src=\"https://colab.research.google.com/assets/colab-badge.svg\" alt=\"Open In Colab\"/></a>"
      ]
    },
    {
      "cell_type": "markdown",
      "source": [
        "Configuracion para subir a git"
      ],
      "metadata": {
        "id": "lmIUSHLeU-tu"
      }
    },
    {
      "cell_type": "code",
      "source": [
        "from google.colab import drive\n",
        "drive.mount('/content/drive')\n"
      ],
      "metadata": {
        "colab": {
          "base_uri": "https://localhost:8080/"
        },
        "id": "a-xH5bgsThyS",
        "outputId": "bb05c184-4d8f-440d-c645-f05cbb3805a9"
      },
      "execution_count": 3,
      "outputs": [
        {
          "output_type": "stream",
          "name": "stdout",
          "text": [
            "Mounted at /content/drive\n"
          ]
        }
      ]
    },
    {
      "cell_type": "code",
      "source": [
        "!apt-get install git\n"
      ],
      "metadata": {
        "colab": {
          "base_uri": "https://localhost:8080/"
        },
        "id": "G4J3iLSjTnVP",
        "outputId": "1c4e9fde-7fa2-435f-88be-09ef838f7c78"
      },
      "execution_count": 4,
      "outputs": [
        {
          "output_type": "stream",
          "name": "stdout",
          "text": [
            "Reading package lists... Done\n",
            "Building dependency tree... Done\n",
            "Reading state information... Done\n",
            "git is already the newest version (1:2.34.1-1ubuntu1.10).\n",
            "0 upgraded, 0 newly installed, 0 to remove and 45 not upgraded.\n"
          ]
        }
      ]
    },
    {
      "cell_type": "code",
      "source": [
        "!git config --global user.name \"vinyl1212\"\n",
        "!git config --global user.email \"doltishcristian@hotmail\"\n"
      ],
      "metadata": {
        "id": "UrIe75a-TtoF"
      },
      "execution_count": 5,
      "outputs": []
    },
    {
      "cell_type": "code",
      "source": [
        "!git clone https://github.com/vinyl1212/Consumo-de-APIS.git\n"
      ],
      "metadata": {
        "colab": {
          "base_uri": "https://localhost:8080/"
        },
        "id": "b56egU6UT3Zr",
        "outputId": "3638ceb2-c80a-4bcc-8b71-182453b17de1"
      },
      "execution_count": 8,
      "outputs": [
        {
          "output_type": "stream",
          "name": "stdout",
          "text": [
            "Cloning into 'Consumo-de-APIS'...\n",
            "warning: You appear to have cloned an empty repository.\n"
          ]
        }
      ]
    },
    {
      "cell_type": "code",
      "source": [
        "%cd Consumo-de-APIS.git\n"
      ],
      "metadata": {
        "colab": {
          "base_uri": "https://localhost:8080/"
        },
        "id": "UWmCTnJDVJmG",
        "outputId": "a4270246-4d3f-4bf3-a949-9e12fbfc8c34"
      },
      "execution_count": 9,
      "outputs": [
        {
          "output_type": "stream",
          "name": "stdout",
          "text": [
            "[Errno 2] No such file or directory: 'Consumo-de-APIS.git'\n",
            "/content\n"
          ]
        }
      ]
    },
    {
      "cell_type": "markdown",
      "source": [
        "Consumo de APIS"
      ],
      "metadata": {
        "id": "dX49AfzqU75q"
      }
    },
    {
      "cell_type": "code",
      "execution_count": 1,
      "metadata": {
        "colab": {
          "base_uri": "https://localhost:8080/"
        },
        "id": "CjBEAiKmTHzz",
        "outputId": "e364e71f-1ff1-4749-e378-26a60a94443f"
      },
      "outputs": [
        {
          "output_type": "stream",
          "name": "stdout",
          "text": [
            "Requirement already satisfied: requests in /usr/local/lib/python3.10/dist-packages (2.31.0)\n",
            "Requirement already satisfied: charset-normalizer<4,>=2 in /usr/local/lib/python3.10/dist-packages (from requests) (3.3.2)\n",
            "Requirement already satisfied: idna<4,>=2.5 in /usr/local/lib/python3.10/dist-packages (from requests) (3.7)\n",
            "Requirement already satisfied: urllib3<3,>=1.21.1 in /usr/local/lib/python3.10/dist-packages (from requests) (2.0.7)\n",
            "Requirement already satisfied: certifi>=2017.4.17 in /usr/local/lib/python3.10/dist-packages (from requests) (2024.2.2)\n"
          ]
        }
      ],
      "source": [
        "pip install requests\n"
      ]
    },
    {
      "cell_type": "code",
      "source": [
        "import requests\n",
        "\n",
        "# URLs de las APIs\n",
        "api_urls = [\n",
        "    \"https://fakerapi.it/api/v1/users?_locale=es_ES&_quantity=5\",\n",
        "    \"https://fakerapi.it/api/v1/companies?_locale=es_ES&_quantity=5\",\n",
        "    \"https://fakerapi.it/api/v1/texts?_locale=es_ES&_quantity=5\"\n",
        "]\n",
        "\n",
        "# Función para consumir una API\n",
        "def consume_api(url):\n",
        "    response = requests.get(url)\n",
        "    if response.status_code == 200:\n",
        "        return response.json()\n",
        "    else:\n",
        "        return None\n",
        "\n",
        "# Consumir las APIs\n",
        "users = consume_api(api_urls[0])\n",
        "companies = consume_api(api_urls[1])\n",
        "texts = consume_api(api_urls[2])\n",
        "\n",
        "# Mostrar los resultados\n",
        "print(\"Users API Response:\", users)\n",
        "print(\"Companies API Response:\", companies)\n",
        "print(\"Texts API Response:\", texts)\n"
      ],
      "metadata": {
        "colab": {
          "base_uri": "https://localhost:8080/"
        },
        "id": "rD1CO-LWTOaQ",
        "outputId": "8b605341-3a9b-4d25-af21-35088dedb177"
      },
      "execution_count": 2,
      "outputs": [
        {
          "output_type": "stream",
          "name": "stdout",
          "text": [
            "Users API Response: {'status': 'OK', 'code': 200, 'total': 5, 'data': [{'id': 1, 'uuid': '3e4e3b51-2dce-3d31-be64-711837f68007', 'firstname': 'Jesús', 'lastname': 'Lovato', 'username': 'jesus.muro', 'password': 'PFfhd-:YVj7m)L+Jwt4*', 'email': 'alberto44@roldan.com', 'ip': '134.21.196.79', 'macAddress': '55:13:06:93:8A:01', 'website': 'http://escamilla.org', 'image': 'http://placeimg.com/640/480/people'}, {'id': 2, 'uuid': 'b5e08c0f-befa-3666-ad4e-75a862f97110', 'firstname': 'Jimena', 'lastname': 'Marín', 'username': 'laia.briones', 'password': 'o!gf{.', 'email': 'carolina23@yahoo.com', 'ip': '249.101.28.70', 'macAddress': '45:97:70:D8:2C:26', 'website': 'http://garza.es', 'image': 'http://placeimg.com/640/480/people'}, {'id': 3, 'uuid': '8167593b-c764-3e17-a9df-f124cf2466ab', 'firstname': 'Alejandra', 'lastname': 'Núñez', 'username': 'veliz.valeria', 'password': 'z\"4N\\'E~2mvPtI|UWr+', 'email': 'sedillo.ainara@hotmail.es', 'ip': '245.242.239.123', 'macAddress': '91:8A:6C:E5:85:C5', 'website': 'http://sepulveda.org', 'image': 'http://placeimg.com/640/480/people'}, {'id': 4, 'uuid': '13f0c086-a1a2-31a6-9757-6c7c205fc8bd', 'firstname': 'Aaron', 'lastname': 'Llamas', 'username': 'tzavala', 'password': \"%xV}Ec|c;6;6h'\\\\%O\", 'email': 'ignacio61@hotmail.es', 'ip': '115.30.177.212', 'macAddress': 'D3:2D:03:06:90:6D', 'website': 'http://exposito.es', 'image': 'http://placeimg.com/640/480/people'}, {'id': 5, 'uuid': '4783d26e-f217-3051-bf67-7c273a35dd46', 'firstname': 'Luna', 'lastname': 'Valle', 'username': 'martin60', 'password': 'd2Jg3jxC/Gn&h', 'email': 'aitana18@gaona.es', 'ip': '2.246.107.141', 'macAddress': 'F6:59:38:F5:45:5E', 'website': 'http://ordonez.com', 'image': 'http://placeimg.com/640/480/people'}]}\n",
            "Companies API Response: {'status': 'OK', 'code': 200, 'total': 5, 'data': [{'id': 1, 'name': 'Pabón y Madera e Hijos', 'email': 'lucia.delafuente@mota.es', 'vat': '32273195229', 'phone': '+1328314734869', 'country': 'República Checa', 'addresses': [{'id': 0, 'street': 'Avinguda Trejo, 010, 6º C', 'streetName': 'Camiño Merino', 'buildingNumber': '50', 'city': 'Tirado Baja', 'zipcode': '93550', 'country': 'Uruguay', 'county_code': 'MA', 'latitude': 70.959577, 'longitude': -93.51048}, {'id': 0, 'street': 'Calle Antonia, 56, 7º D', 'streetName': 'Carrer Rosario', 'buildingNumber': '73', 'city': 'El Ibáñez de Arriba', 'zipcode': '05950', 'country': 'Uruguay', 'county_code': 'LS', 'latitude': 23.290172, 'longitude': -169.907716}, {'id': 0, 'street': 'Plaça Montes, 80, 4º 5º', 'streetName': 'Paseo Rubén', 'buildingNumber': '93', 'city': 'Villa Sandoval', 'zipcode': '11932', 'country': 'Maldivas', 'county_code': 'NP', 'latitude': -38.73368, 'longitude': 102.140166}], 'website': 'http://gallegos.com', 'image': 'http://placeimg.com/640/480/people', 'contact': {'id': 0, 'firstname': 'Helena', 'lastname': 'Luna', 'email': 'gonzalo.tejada@palomino.com', 'phone': '+7999601318550', 'birthday': '1939-09-04', 'gender': 'female', 'address': {'id': 0, 'street': 'Carrer Jaime, 4, 89º F', 'streetName': 'Plaça Naiara', 'buildingNumber': '9', 'city': 'San Salvador del Barco', 'zipcode': '22103', 'country': 'Singapur', 'county_code': 'MW', 'latitude': 24.970893, 'longitude': -44.653648}, 'website': 'http://vargas.com', 'image': 'http://placeimg.com/640/480/people'}}, {'id': 2, 'name': 'Asociación Mondragón', 'email': 'eduardo.guillen@gmail.com', 'vat': '180781978', 'phone': '+6999301151059', 'country': 'República Dominicana', 'addresses': [{'id': 0, 'street': 'Carrer Luna, 759, 6º F', 'streetName': 'Travesía Aitor', 'buildingNumber': '5', 'city': 'Llamas de la Sierra', 'zipcode': '93268', 'country': 'Armenia', 'county_code': 'DZ', 'latitude': -28.471758, 'longitude': -0.579088}, {'id': 0, 'street': 'Ronda Margarita, 75, 31º B', 'streetName': 'Ruela Laia', 'buildingNumber': '761', 'city': 'Arribas Medio', 'zipcode': '70951', 'country': 'Colombia', 'county_code': 'SX', 'latitude': 71.934414, 'longitude': -15.719262}, {'id': 0, 'street': 'Calle Nuria, 006, 57º C', 'streetName': 'Calle Esther', 'buildingNumber': '37', 'city': 'A Moreno de Lemos', 'zipcode': '66684', 'country': 'Francia', 'county_code': 'IT', 'latitude': 44.342762, 'longitude': -175.875473}, {'id': 0, 'street': 'Paseo Plaza, 85, Bajo 0º', 'streetName': 'Passeig Velasco', 'buildingNumber': '50', 'city': 'Melgar del Bages', 'zipcode': '06053', 'country': 'Islas Marshall', 'county_code': 'MW', 'latitude': 49.813015, 'longitude': -7.507646}], 'website': 'http://camarillo.es', 'image': 'http://placeimg.com/640/480/people', 'contact': {'id': 0, 'firstname': 'Valeria', 'lastname': 'Monroy', 'email': 'eduardo.barrios@live.com', 'phone': '+4380716732137', 'birthday': '1954-11-07', 'gender': 'female', 'address': {'id': 0, 'street': 'Camiño Diego, 0, Bajo 6º', 'streetName': 'Camino Ozuna', 'buildingNumber': '9', 'city': 'Soto del Penedès', 'zipcode': '40113', 'country': 'Zimbabue', 'county_code': 'HR', 'latitude': -83.619721, 'longitude': 139.329398}, 'website': 'http://moral.com.es', 'image': 'http://placeimg.com/640/480/people'}}, {'id': 3, 'name': 'Hernández y González', 'email': 'epolo@yahoo.com', 'vat': '7341914851', 'phone': '+4909124493194', 'country': 'Guinea Ecuatorial', 'addresses': [{'id': 0, 'street': 'Plaça Pau, 7, 4º B', 'streetName': 'Travessera Olivas', 'buildingNumber': '438', 'city': 'San Rodríquez de San Pedro', 'zipcode': '92097', 'country': 'Malta', 'county_code': 'DK', 'latitude': 75.118174, 'longitude': -150.219865}, {'id': 0, 'street': 'Passeig Rodrigo, 8, Entre suelo 8º', 'streetName': 'Passeig María Carmen', 'buildingNumber': '130', 'city': 'Figueroa del Mirador', 'zipcode': '28130', 'country': 'Zimbabue', 'county_code': 'AF', 'latitude': 35.902014, 'longitude': 98.766493}, {'id': 0, 'street': 'Calle Ian, 64, 9º A', 'streetName': 'Rúa Martín', 'buildingNumber': '25', 'city': 'San Razo de Lemos', 'zipcode': '74308', 'country': 'Costa de Marfil', 'county_code': 'DO', 'latitude': -65.298777, 'longitude': -150.530406}], 'website': 'http://valdivia.org', 'image': 'http://placeimg.com/640/480/people', 'contact': {'id': 0, 'firstname': 'Erik', 'lastname': 'Mejía', 'email': 'xnavarro@latinmail.com', 'phone': '+6869069126337', 'birthday': '1961-06-23', 'gender': 'male', 'address': {'id': 0, 'street': 'Calle Luque, 32, 5º A', 'streetName': 'Calle Bruno', 'buildingNumber': '49', 'city': 'Nevárez de Arriba', 'zipcode': '37995', 'country': 'Nauru', 'county_code': 'CL', 'latitude': -70.761091, 'longitude': 3.493065}, 'website': 'http://macias.com.es', 'image': 'http://placeimg.com/640/480/people'}}, {'id': 4, 'name': 'Grupo Ruvalcaba-Carrión', 'email': 'carrasco.marcos@aviles.com', 'vat': '032121779', 'phone': '+9913930385966', 'country': 'Costa de Marfil', 'addresses': [{'id': 0, 'street': 'Avenida Soliz, 678, 7º A', 'streetName': 'Carrer Daniel', 'buildingNumber': '2', 'city': 'Los Prieto del Penedès', 'zipcode': '75778', 'country': 'Senegal', 'county_code': 'ET', 'latitude': 24.279451, 'longitude': -98.098671}, {'id': 0, 'street': 'Travessera Casillas, 6, Bajos', 'streetName': 'Carrer Toro', 'buildingNumber': '137', 'city': 'La Muñiz de San Pedro', 'zipcode': '86410', 'country': 'Uganda', 'county_code': 'CG', 'latitude': 71.975207, 'longitude': 152.176373}, {'id': 0, 'street': 'Praza Macias, 4, 46º B', 'streetName': 'Ruela Rosa', 'buildingNumber': '09', 'city': 'Monroy de Ulla', 'zipcode': '82411', 'country': 'Burundi', 'county_code': 'SO', 'latitude': 49.478657, 'longitude': -80.370328}, {'id': 0, 'street': 'Camiño Orellana, 6, Bajo 2º', 'streetName': 'Travesía Ruvalcaba', 'buildingNumber': '209', 'city': 'Marrero del Pozo', 'zipcode': '97645', 'country': 'Vanuatu', 'county_code': 'CV', 'latitude': 75.082441, 'longitude': 173.22796}, {'id': 0, 'street': 'Plaza Gael, 8, Bajo 0º', 'streetName': 'Avinguda Valentín', 'buildingNumber': '9', 'city': 'As Olivas del Mirador', 'zipcode': '61836', 'country': 'Vietnam', 'county_code': 'DJ', 'latitude': -10.071179, 'longitude': 8.707368}], 'website': 'http://solis.es', 'image': 'http://placeimg.com/640/480/people', 'contact': {'id': 0, 'firstname': 'Elena', 'lastname': 'Ramos', 'email': 'gonzalo77@hispavista.com', 'phone': '+3752649875301', 'birthday': '2018-12-20', 'gender': 'female', 'address': {'id': 0, 'street': 'Camino Clara, 2, 75º C', 'streetName': 'Calle Abeyta', 'buildingNumber': '9', 'city': 'Los Domínquez de Lemos', 'zipcode': '30698', 'country': 'Corea del Norte', 'county_code': 'MD', 'latitude': -56.182871, 'longitude': 165.23084}, 'website': 'http://leal.com', 'image': 'http://placeimg.com/640/480/people'}}, {'id': 5, 'name': 'Gestora Cuellar', 'email': 'yago.mendez@pelaez.com', 'vat': '93832252873', 'phone': '+5706427713367', 'country': 'Irlanda', 'addresses': [{'id': 0, 'street': 'Rúa Guerra, 6, Bajo 9º', 'streetName': 'Plaça Prieto', 'buildingNumber': '061', 'city': 'Los Aguayo', 'zipcode': '60304', 'country': 'Níger', 'county_code': 'LU', 'latitude': -82.570134, 'longitude': 35.096519}, {'id': 0, 'street': 'Avinguda Rodrigo, 41, 10º A', 'streetName': 'Avenida Nieto', 'buildingNumber': '35', 'city': 'Griego Medio', 'zipcode': '17848', 'country': 'Malaui', 'county_code': 'YE', 'latitude': 6.947923, 'longitude': -46.158145}, {'id': 0, 'street': 'Ruela Delgadillo, 7, 7º A', 'streetName': 'Camiño Santana', 'buildingNumber': '1', 'city': 'Álvarez del Barco', 'zipcode': '21765', 'country': 'Chipre', 'county_code': 'NF', 'latitude': 70.035573, 'longitude': -170.862394}, {'id': 0, 'street': 'Camiño Ríos, 622, 8º F', 'streetName': 'Camino Lerma', 'buildingNumber': '818', 'city': \"L' Véliz\", 'zipcode': '72069', 'country': 'Botsuana', 'county_code': 'EC', 'latitude': 40.146595, 'longitude': 93.445196}, {'id': 0, 'street': 'Plaza Ramón, 99, 0º C', 'streetName': 'Calle Adam', 'buildingNumber': '27', 'city': 'La Aparicio Baja', 'zipcode': '05526', 'country': 'México', 'county_code': 'AO', 'latitude': -88.110363, 'longitude': 132.824747}], 'website': 'http://saavedra.com', 'image': 'http://placeimg.com/640/480/people', 'contact': {'id': 0, 'firstname': 'Irene', 'lastname': 'Garza', 'email': 'beatriz24@almonte.com.es', 'phone': '+2799653614764', 'birthday': '1946-12-20', 'gender': 'female', 'address': {'id': 0, 'street': 'Carrer Raya, 358, 89º B', 'streetName': 'Paseo Mateo', 'buildingNumber': '0', 'city': 'Gallardo de San Pedro', 'zipcode': '44506', 'country': 'Turquía', 'county_code': 'CI', 'latitude': -65.509815, 'longitude': 0.650766}, 'website': 'http://perez.org', 'image': 'http://placeimg.com/640/480/people'}}]}\n",
            "Texts API Response: {'status': 'OK', 'code': 200, 'total': 5, 'data': [{'title': 'Cádiz cubiertos de.', 'author': 'Gerard Bustamante', 'genre': 'Eos', 'content': 'Quisieron que el Primer Cónsul, ya Emperador, quien, aspirando a vencer por el cañón enemigo, llenaban la cubierta, donde apenas había espacio para moverse. De minuto en minuto caían al suelo muchas.'}, {'title': 'Cuénteme usted lo.', 'author': 'César Leal', 'genre': 'Quae', 'content': 'Creo que me obligó a ello, apresando inoportunamente cuatro fragatas que venían del Río de la derrota angustió mi alma. La línea de batalla; y como un huevo a otro fue malísima; mas, al fin, el.'}, {'title': 'Respecto a su lado.', 'author': 'Adriana Aranda', 'genre': 'Alias', 'content': 'Los mayores del mundo yo tenía la conciencia de mi amo- . ¡Y he de morirme sin tener ese gusto! - ¡Bonito gusto, hombre de Estado a la cámara. No había éste pronunciado dos palabras, cuando una.'}, {'title': 'Por el contrario.', 'author': 'Ian Pedraza', 'genre': 'Qui', 'content': 'Medio-hombre enérgicamente y cerrando el siniestro, aunque en entrambos tuvieran muy buena vista. La conversación volvió al tema por donde arrojarse al mar. Y viendo que me rodeaban reconocí a.'}, {'title': 'Esta opinión, que.', 'author': 'Juan José Padilla', 'genre': 'Optio', 'content': 'Observando la mayor parte ingleses, no sin que ni aun mucho después pude conciliar el sueño. No podía apartar de mi individuo me dominó un instante; en un instante estuvo perplejo, sin saber qué.'}]}\n"
          ]
        }
      ]
    }
  ]
}